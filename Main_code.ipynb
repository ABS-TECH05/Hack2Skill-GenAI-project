{
  "cells": [
    {
      "cell_type": "markdown",
      "metadata": {
        "id": "view-in-github",
        "colab_type": "text"
      },
      "source": [
        "<a href=\"https://colab.research.google.com/github/ABS-TECH05/Hack2Skill-GenAI-project/blob/main/Main_code.ipynb\" target=\"_parent\"><img src=\"https://colab.research.google.com/assets/colab-badge.svg\" alt=\"Open In Colab\"/></a>"
      ]
    },
    {
      "cell_type": "code",
      "execution_count": null,
      "metadata": {
        "colab": {
          "base_uri": "https://localhost:8080/"
        },
        "id": "khqQEJPSDJAg",
        "outputId": "ebef3ba5-b333-42fa-bd9c-503bdab6c836"
      },
      "outputs": [
        {
          "name": "stdout",
          "output_type": "stream",
          "text": [
            "Requirement already satisfied: google-cloud-vision in /usr/local/lib/python3.12/dist-packages (3.10.2)\n",
            "Requirement already satisfied: pandas in /usr/local/lib/python3.12/dist-packages (2.2.2)\n",
            "Requirement already satisfied: google-api-core!=2.0.*,!=2.1.*,!=2.10.*,!=2.2.*,!=2.3.*,!=2.4.*,!=2.5.*,!=2.6.*,!=2.7.*,!=2.8.*,!=2.9.*,<3.0.0,>=1.34.1 in /usr/local/lib/python3.12/dist-packages (from google-api-core[grpc]!=2.0.*,!=2.1.*,!=2.10.*,!=2.2.*,!=2.3.*,!=2.4.*,!=2.5.*,!=2.6.*,!=2.7.*,!=2.8.*,!=2.9.*,<3.0.0,>=1.34.1->google-cloud-vision) (2.25.1)\n",
            "Requirement already satisfied: google-auth!=2.24.0,!=2.25.0,<3.0.0,>=2.14.1 in /usr/local/lib/python3.12/dist-packages (from google-cloud-vision) (2.38.0)\n",
            "Requirement already satisfied: proto-plus<2.0.0,>=1.22.3 in /usr/local/lib/python3.12/dist-packages (from google-cloud-vision) (1.26.1)\n",
            "Requirement already satisfied: protobuf!=4.21.0,!=4.21.1,!=4.21.2,!=4.21.3,!=4.21.4,!=4.21.5,<7.0.0,>=3.20.2 in /usr/local/lib/python3.12/dist-packages (from google-cloud-vision) (5.29.5)\n",
            "Requirement already satisfied: numpy>=1.26.0 in /usr/local/lib/python3.12/dist-packages (from pandas) (2.0.2)\n",
            "Requirement already satisfied: python-dateutil>=2.8.2 in /usr/local/lib/python3.12/dist-packages (from pandas) (2.9.0.post0)\n",
            "Requirement already satisfied: pytz>=2020.1 in /usr/local/lib/python3.12/dist-packages (from pandas) (2025.2)\n",
            "Requirement already satisfied: tzdata>=2022.7 in /usr/local/lib/python3.12/dist-packages (from pandas) (2025.2)\n",
            "Requirement already satisfied: googleapis-common-protos<2.0.0,>=1.56.2 in /usr/local/lib/python3.12/dist-packages (from google-api-core!=2.0.*,!=2.1.*,!=2.10.*,!=2.2.*,!=2.3.*,!=2.4.*,!=2.5.*,!=2.6.*,!=2.7.*,!=2.8.*,!=2.9.*,<3.0.0,>=1.34.1->google-api-core[grpc]!=2.0.*,!=2.1.*,!=2.10.*,!=2.2.*,!=2.3.*,!=2.4.*,!=2.5.*,!=2.6.*,!=2.7.*,!=2.8.*,!=2.9.*,<3.0.0,>=1.34.1->google-cloud-vision) (1.70.0)\n",
            "Requirement already satisfied: requests<3.0.0,>=2.18.0 in /usr/local/lib/python3.12/dist-packages (from google-api-core!=2.0.*,!=2.1.*,!=2.10.*,!=2.2.*,!=2.3.*,!=2.4.*,!=2.5.*,!=2.6.*,!=2.7.*,!=2.8.*,!=2.9.*,<3.0.0,>=1.34.1->google-api-core[grpc]!=2.0.*,!=2.1.*,!=2.10.*,!=2.2.*,!=2.3.*,!=2.4.*,!=2.5.*,!=2.6.*,!=2.7.*,!=2.8.*,!=2.9.*,<3.0.0,>=1.34.1->google-cloud-vision) (2.32.4)\n",
            "Requirement already satisfied: grpcio<2.0.0,>=1.33.2 in /usr/local/lib/python3.12/dist-packages (from google-api-core[grpc]!=2.0.*,!=2.1.*,!=2.10.*,!=2.2.*,!=2.3.*,!=2.4.*,!=2.5.*,!=2.6.*,!=2.7.*,!=2.8.*,!=2.9.*,<3.0.0,>=1.34.1->google-cloud-vision) (1.74.0)\n",
            "Requirement already satisfied: grpcio-status<2.0.0,>=1.33.2 in /usr/local/lib/python3.12/dist-packages (from google-api-core[grpc]!=2.0.*,!=2.1.*,!=2.10.*,!=2.2.*,!=2.3.*,!=2.4.*,!=2.5.*,!=2.6.*,!=2.7.*,!=2.8.*,!=2.9.*,<3.0.0,>=1.34.1->google-cloud-vision) (1.71.2)\n",
            "Requirement already satisfied: cachetools<6.0,>=2.0.0 in /usr/local/lib/python3.12/dist-packages (from google-auth!=2.24.0,!=2.25.0,<3.0.0,>=2.14.1->google-cloud-vision) (5.5.2)\n",
            "Requirement already satisfied: pyasn1-modules>=0.2.1 in /usr/local/lib/python3.12/dist-packages (from google-auth!=2.24.0,!=2.25.0,<3.0.0,>=2.14.1->google-cloud-vision) (0.4.2)\n",
            "Requirement already satisfied: rsa<5,>=3.1.4 in /usr/local/lib/python3.12/dist-packages (from google-auth!=2.24.0,!=2.25.0,<3.0.0,>=2.14.1->google-cloud-vision) (4.9.1)\n",
            "Requirement already satisfied: six>=1.5 in /usr/local/lib/python3.12/dist-packages (from python-dateutil>=2.8.2->pandas) (1.17.0)\n",
            "Requirement already satisfied: pyasn1<0.7.0,>=0.6.1 in /usr/local/lib/python3.12/dist-packages (from pyasn1-modules>=0.2.1->google-auth!=2.24.0,!=2.25.0,<3.0.0,>=2.14.1->google-cloud-vision) (0.6.1)\n",
            "Requirement already satisfied: charset_normalizer<4,>=2 in /usr/local/lib/python3.12/dist-packages (from requests<3.0.0,>=2.18.0->google-api-core!=2.0.*,!=2.1.*,!=2.10.*,!=2.2.*,!=2.3.*,!=2.4.*,!=2.5.*,!=2.6.*,!=2.7.*,!=2.8.*,!=2.9.*,<3.0.0,>=1.34.1->google-api-core[grpc]!=2.0.*,!=2.1.*,!=2.10.*,!=2.2.*,!=2.3.*,!=2.4.*,!=2.5.*,!=2.6.*,!=2.7.*,!=2.8.*,!=2.9.*,<3.0.0,>=1.34.1->google-cloud-vision) (3.4.3)\n",
            "Requirement already satisfied: idna<4,>=2.5 in /usr/local/lib/python3.12/dist-packages (from requests<3.0.0,>=2.18.0->google-api-core!=2.0.*,!=2.1.*,!=2.10.*,!=2.2.*,!=2.3.*,!=2.4.*,!=2.5.*,!=2.6.*,!=2.7.*,!=2.8.*,!=2.9.*,<3.0.0,>=1.34.1->google-api-core[grpc]!=2.0.*,!=2.1.*,!=2.10.*,!=2.2.*,!=2.3.*,!=2.4.*,!=2.5.*,!=2.6.*,!=2.7.*,!=2.8.*,!=2.9.*,<3.0.0,>=1.34.1->google-cloud-vision) (3.10)\n",
            "Requirement already satisfied: urllib3<3,>=1.21.1 in /usr/local/lib/python3.12/dist-packages (from requests<3.0.0,>=2.18.0->google-api-core!=2.0.*,!=2.1.*,!=2.10.*,!=2.2.*,!=2.3.*,!=2.4.*,!=2.5.*,!=2.6.*,!=2.7.*,!=2.8.*,!=2.9.*,<3.0.0,>=1.34.1->google-api-core[grpc]!=2.0.*,!=2.1.*,!=2.10.*,!=2.2.*,!=2.3.*,!=2.4.*,!=2.5.*,!=2.6.*,!=2.7.*,!=2.8.*,!=2.9.*,<3.0.0,>=1.34.1->google-cloud-vision) (2.5.0)\n",
            "Requirement already satisfied: certifi>=2017.4.17 in /usr/local/lib/python3.12/dist-packages (from requests<3.0.0,>=2.18.0->google-api-core!=2.0.*,!=2.1.*,!=2.10.*,!=2.2.*,!=2.3.*,!=2.4.*,!=2.5.*,!=2.6.*,!=2.7.*,!=2.8.*,!=2.9.*,<3.0.0,>=1.34.1->google-api-core[grpc]!=2.0.*,!=2.1.*,!=2.10.*,!=2.2.*,!=2.3.*,!=2.4.*,!=2.5.*,!=2.6.*,!=2.7.*,!=2.8.*,!=2.9.*,<3.0.0,>=1.34.1->google-cloud-vision) (2025.8.3)\n"
          ]
        }
      ],
      "source": [
        "!pip install google-cloud-vision pandas\n"
      ]
    },
    {
      "cell_type": "code",
      "source": [
        "import pandas as pd\n",
        "import random\n",
        "\n",
        "random.seed(42)\n",
        "\n",
        "# Couriers and services\n",
        "couriers = [\"DTDC\",\"Delhivery\",\"Blue Dart\",\"Ecom Express\",\"India Post\",\"FedEx\",\"DHL\",\"Shiprocket\"]\n",
        "services = {\n",
        "    \"DTDC\": [\"Express\",\"Surface\"],\n",
        "    \"Delhivery\": [\"Surface\",\"Express\"],\n",
        "    \"Blue Dart\": [\"Express\"],\n",
        "    \"Ecom Express\": [\"Surface\",\"Economy\"],\n",
        "    \"India Post\": [\"Speed Post\",\"Economy\"],\n",
        "    \"FedEx\": [\"Express\",\"Economy\",\"International Express\"],\n",
        "    \"DHL\": [\"Express\",\"International Express\"],\n",
        "    \"Shiprocket\": [\"Aggregator\"]\n",
        "}\n",
        "\n",
        "origin_zones = [\"Local\",\"Zone A\",\"Zone B\",\"Zone C\",\"Zone D\",\"National\",\"International\"]\n",
        "dest_zones = origin_zones.copy()\n",
        "\n",
        "# Weight slabs (0–500 g, ..., 9500–10000 g)\n",
        "weights = [(i, i+500) for i in range(0,10000,500)]\n",
        "\n",
        "# Surcharge pool\n",
        "surcharge_pool = [\n",
        "    \"Fuel surcharge\", \"Fuel surcharge; COD charges\", \"Fuel surcharge; Remote area charge\",\n",
        "    \"Dimensional weight applies\", \"Insurance optional\", \"No extra surcharges (retail)\"\n",
        "]\n",
        "\n",
        "# Dimensional weight factor (for volumetric pricing)\n",
        "def dimensional_weight_factor(service):\n",
        "    if \"International\" in service or \"Express\" in service:\n",
        "        return round(random.uniform(1.1, 1.5), 2)\n",
        "    else:\n",
        "        return 1.0\n",
        "\n",
        "# Price model\n",
        "def price_model(courier, service, origin, dest, w_start, w_end):\n",
        "    courier_factor = {\"DTDC\":1.0,\"Delhivery\":1.1,\"Blue Dart\":1.4,\"Ecom Express\":0.9,\n",
        "                      \"India Post\":0.6,\"FedEx\":2.2,\"DHL\":2.5,\"Shiprocket\":0.8}[courier]\n",
        "    service_mult = 1.0\n",
        "    if \"Express\" in service: service_mult = 1.4\n",
        "    if \"International\" in service: service_mult = 3.5\n",
        "    if \"Economy\" in service: service_mult = 0.85\n",
        "    if \"Aggregator\" in service: service_mult = 0.9\n",
        "    zone_order = {\"Local\":1, \"Zone A\":1.2, \"Zone B\":1.5, \"Zone C\":1.8, \"Zone D\":2.1,\n",
        "                  \"National\":1.6,\"International\":4.0}\n",
        "    dist_mult = (zone_order.get(origin,1)+zone_order.get(dest,1))/2.0\n",
        "    w_mid = (w_start + w_end)/2.0\n",
        "    base_small = 25.0\n",
        "    weight_mult = 1 + (w_mid/1000.0)**1.05\n",
        "    raw = base_small * courier_factor * service_mult * dist_mult * weight_mult\n",
        "    noise = random.uniform(0.9,1.1)\n",
        "    base_price = max(10, round(raw * noise))\n",
        "    add_price = max(5, round(base_price * 0.18 * random.uniform(0.9,1.2)))\n",
        "    return int(base_price), int(add_price)\n",
        "\n",
        "rows = []\n",
        "target_rows = 1500\n",
        "attempts = 0\n",
        "\n",
        "while len(rows) < target_rows and attempts < target_rows * 10:\n",
        "    attempts += 1\n",
        "    courier = random.choice(couriers)\n",
        "    service = random.choice(services[courier])\n",
        "    origin = random.choice(origin_zones)\n",
        "    if origin == \"Local\":\n",
        "        dest = random.choices(dest_zones, weights=[40,15,10,8,5,15,7], k=1)[0]\n",
        "    elif origin == \"International\":\n",
        "        dest = random.choices(dest_zones, weights=[3,3,3,3,2,3,83], k=1)[0]\n",
        "    else:\n",
        "        dest = random.choices(dest_zones, weights=[5,20,20,18,12,20,5], k=1)[0]\n",
        "    w_start, w_end = random.choice(weights)\n",
        "    base_price, add_price = price_model(courier, service, origin, dest, w_start, w_end)\n",
        "    surcharge = random.choice(surcharge_pool)\n",
        "    dim_factor = dimensional_weight_factor(service)\n",
        "    # international adjustment\n",
        "    if \"International\" in service or origin==\"International\" or dest==\"International\":\n",
        "        base_price = int(base_price * 1.6)\n",
        "        add_price = int(add_price * 1.5)\n",
        "    effective_date = \"2025-09-20\"\n",
        "    source_url = {\n",
        "        \"DTDC\":\"https://www.dtdc.in/\",\"Delhivery\":\"https://www.delhivery.com/\",\n",
        "        \"Blue Dart\":\"https://www.bluedart.com/\",\"Ecom Express\":\"https://www.ecomexpress.in/\",\n",
        "        \"India Post\":\"https://www.indiapost.gov.in/\",\"FedEx\":\"https://www.fedex.com/\",\n",
        "        \"DHL\":\"https://www.dhl.com/\",\"Shiprocket\":\"https://www.shiprocket.in/\"\n",
        "    }[courier]\n",
        "    row = [courier,service,origin,dest,w_start,w_end,base_price,add_price,surcharge,effective_date,source_url,dim_factor]\n",
        "    if row not in rows:\n",
        "        rows.append(row)\n",
        "\n",
        "df_full = pd.DataFrame(rows, columns=[\n",
        "    \"courier_name\",\"service_type\",\"origin_zone\",\"dest_zone\",\"weight_start_g\",\"weight_end_g\",\n",
        "    \"base_price_inr\",\"additional_price_inr\",\"surcharge_rule\",\"effective_date\",\"source_url\",\n",
        "    \"dimensional_weight_factor\"\n",
        "])\n",
        "\n",
        "# Save CSV\n",
        "df_full.to_csv(\"courier_rates_all_full.csv\", index=False)\n",
        "print(\"✅ Saved courier_rates_all_full.csv with\", len(df_full), \"rows\")"
      ],
      "metadata": {
        "id": "wcTXfPWHDl7x"
      },
      "execution_count": null,
      "outputs": []
    },
    {
      "cell_type": "code",
      "execution_count": null,
      "metadata": {
        "colab": {
          "base_uri": "https://localhost:8080/",
          "height": 400
        },
        "id": "kIlVPYZG0eCy",
        "outputId": "b9e30f71-79e8-4f0b-8355-81dbcf14fbd1"
      },
      "outputs": [
        {
          "ename": "ImportError",
          "evalue": "cannot import name 'vision' from 'google.cloud' (unknown location)",
          "output_type": "error",
          "traceback": [
            "\u001b[0;31m---------------------------------------------------------------------------\u001b[0m",
            "\u001b[0;31mImportError\u001b[0m                               Traceback (most recent call last)",
            "\u001b[0;32m/tmp/ipython-input-2364549623.py\u001b[0m in \u001b[0;36m<cell line: 0>\u001b[0;34m()\u001b[0m\n\u001b[0;32m----> 1\u001b[0;31m \u001b[0;32mfrom\u001b[0m \u001b[0mgoogle\u001b[0m\u001b[0;34m.\u001b[0m\u001b[0mcloud\u001b[0m \u001b[0;32mimport\u001b[0m \u001b[0mvision\u001b[0m\u001b[0;34m\u001b[0m\u001b[0;34m\u001b[0m\u001b[0m\n\u001b[0m\u001b[1;32m      2\u001b[0m \u001b[0;32mimport\u001b[0m \u001b[0mio\u001b[0m\u001b[0;34m\u001b[0m\u001b[0;34m\u001b[0m\u001b[0m\n\u001b[1;32m      3\u001b[0m \u001b[0;34m\u001b[0m\u001b[0m\n\u001b[1;32m      4\u001b[0m \u001b[0mclient\u001b[0m \u001b[0;34m=\u001b[0m \u001b[0mvision\u001b[0m\u001b[0;34m.\u001b[0m\u001b[0mImageAnnotatorClient\u001b[0m\u001b[0;34m(\u001b[0m\u001b[0;34m)\u001b[0m\u001b[0;34m\u001b[0m\u001b[0;34m\u001b[0m\u001b[0m\n\u001b[1;32m      5\u001b[0m \u001b[0;34m\u001b[0m\u001b[0m\n",
            "\u001b[0;31mImportError\u001b[0m: cannot import name 'vision' from 'google.cloud' (unknown location)",
            "",
            "\u001b[0;31m---------------------------------------------------------------------------\u001b[0;32m\nNOTE: If your import is failing due to a missing package, you can\nmanually install dependencies using either !pip or !apt.\n\nTo view examples of installing some common dependencies, click the\n\"Open Examples\" button below.\n\u001b[0;31m---------------------------------------------------------------------------\u001b[0m\n"
          ]
        }
      ],
      "source": [
        "from google.cloud import vision\n",
        "import io\n",
        "\n",
        "client = vision.ImageAnnotatorClient()\n",
        "\n",
        "def image_to_text(image_path):\n",
        "    with io.open(image_path, 'rb') as image_file:\n",
        "        content = image_file.read()\n",
        "    image = vision.Image(content=content)\n",
        "    response = client.text_detection(image=image)\n",
        "    texts = response.text_annotations\n",
        "    return texts[0].description if texts else \"\"\n"
      ]
    },
    {
      "cell_type": "code",
      "execution_count": null,
      "metadata": {
        "colab": {
          "base_uri": "https://localhost:8080/"
        },
        "id": "GkIcDMYb0rM9",
        "outputId": "1968e74f-62ac-4223-c06e-609dfd51c475"
      },
      "outputs": [
        {
          "name": "stdout",
          "output_type": "stream",
          "text": [
            "\u001b[33mWARNING: Skipping google-cloud as it is not installed.\u001b[0m\u001b[33m\n",
            "\u001b[2K   \u001b[90m━━━━━━━━━━━━━━━━━━━━━━━━━━━━━━━━━━━━━━━━\u001b[0m \u001b[32m527.9/527.9 kB\u001b[0m \u001b[31m6.0 MB/s\u001b[0m eta \u001b[36m0:00:00\u001b[0m\n",
            "\u001b[?25h"
          ]
        }
      ],
      "source": [
        "!pip uninstall -y google-cloud\n",
        "!pip install --quiet --upgrade google-cloud-vision\n"
      ]
    },
    {
      "cell_type": "code",
      "execution_count": null,
      "metadata": {
        "id": "gBG409631VNM"
      },
      "outputs": [],
      "source": [
        "from google.cloud import vision\n",
        "import io\n",
        "\n",
        "client = vision.ImageAnnotatorClient()\n"
      ]
    },
    {
      "cell_type": "code",
      "execution_count": null,
      "metadata": {
        "colab": {
          "background_save": true,
          "base_uri": "https://localhost:8080/",
          "height": 38
        },
        "id": "v11pvffb1Zi1",
        "outputId": "f44067e6-8cb3-4aee-d01f-b55c90c13fe3"
      },
      "outputs": [
        {
          "data": {
            "text/html": [
              "\n",
              "     <input type=\"file\" id=\"files-6db0ccf6-3059-477e-8b60-3777cd70c358\" name=\"files[]\" multiple disabled\n",
              "        style=\"border:none\" />\n",
              "     <output id=\"result-6db0ccf6-3059-477e-8b60-3777cd70c358\">\n",
              "      Upload widget is only available when the cell has been executed in the\n",
              "      current browser session. Please rerun this cell to enable.\n",
              "      </output>\n",
              "      <script>// Copyright 2017 Google LLC\n",
              "//\n",
              "// Licensed under the Apache License, Version 2.0 (the \"License\");\n",
              "// you may not use this file except in compliance with the License.\n",
              "// You may obtain a copy of the License at\n",
              "//\n",
              "//      http://www.apache.org/licenses/LICENSE-2.0\n",
              "//\n",
              "// Unless required by applicable law or agreed to in writing, software\n",
              "// distributed under the License is distributed on an \"AS IS\" BASIS,\n",
              "// WITHOUT WARRANTIES OR CONDITIONS OF ANY KIND, either express or implied.\n",
              "// See the License for the specific language governing permissions and\n",
              "// limitations under the License.\n",
              "\n",
              "/**\n",
              " * @fileoverview Helpers for google.colab Python module.\n",
              " */\n",
              "(function(scope) {\n",
              "function span(text, styleAttributes = {}) {\n",
              "  const element = document.createElement('span');\n",
              "  element.textContent = text;\n",
              "  for (const key of Object.keys(styleAttributes)) {\n",
              "    element.style[key] = styleAttributes[key];\n",
              "  }\n",
              "  return element;\n",
              "}\n",
              "\n",
              "// Max number of bytes which will be uploaded at a time.\n",
              "const MAX_PAYLOAD_SIZE = 100 * 1024;\n",
              "\n",
              "function _uploadFiles(inputId, outputId) {\n",
              "  const steps = uploadFilesStep(inputId, outputId);\n",
              "  const outputElement = document.getElementById(outputId);\n",
              "  // Cache steps on the outputElement to make it available for the next call\n",
              "  // to uploadFilesContinue from Python.\n",
              "  outputElement.steps = steps;\n",
              "\n",
              "  return _uploadFilesContinue(outputId);\n",
              "}\n",
              "\n",
              "// This is roughly an async generator (not supported in the browser yet),\n",
              "// where there are multiple asynchronous steps and the Python side is going\n",
              "// to poll for completion of each step.\n",
              "// This uses a Promise to block the python side on completion of each step,\n",
              "// then passes the result of the previous step as the input to the next step.\n",
              "function _uploadFilesContinue(outputId) {\n",
              "  const outputElement = document.getElementById(outputId);\n",
              "  const steps = outputElement.steps;\n",
              "\n",
              "  const next = steps.next(outputElement.lastPromiseValue);\n",
              "  return Promise.resolve(next.value.promise).then((value) => {\n",
              "    // Cache the last promise value to make it available to the next\n",
              "    // step of the generator.\n",
              "    outputElement.lastPromiseValue = value;\n",
              "    return next.value.response;\n",
              "  });\n",
              "}\n",
              "\n",
              "/**\n",
              " * Generator function which is called between each async step of the upload\n",
              " * process.\n",
              " * @param {string} inputId Element ID of the input file picker element.\n",
              " * @param {string} outputId Element ID of the output display.\n",
              " * @return {!Iterable<!Object>} Iterable of next steps.\n",
              " */\n",
              "function* uploadFilesStep(inputId, outputId) {\n",
              "  const inputElement = document.getElementById(inputId);\n",
              "  inputElement.disabled = false;\n",
              "\n",
              "  const outputElement = document.getElementById(outputId);\n",
              "  outputElement.innerHTML = '';\n",
              "\n",
              "  const pickedPromise = new Promise((resolve) => {\n",
              "    inputElement.addEventListener('change', (e) => {\n",
              "      resolve(e.target.files);\n",
              "    });\n",
              "  });\n",
              "\n",
              "  const cancel = document.createElement('button');\n",
              "  inputElement.parentElement.appendChild(cancel);\n",
              "  cancel.textContent = 'Cancel upload';\n",
              "  const cancelPromise = new Promise((resolve) => {\n",
              "    cancel.onclick = () => {\n",
              "      resolve(null);\n",
              "    };\n",
              "  });\n",
              "\n",
              "  // Wait for the user to pick the files.\n",
              "  const files = yield {\n",
              "    promise: Promise.race([pickedPromise, cancelPromise]),\n",
              "    response: {\n",
              "      action: 'starting',\n",
              "    }\n",
              "  };\n",
              "\n",
              "  cancel.remove();\n",
              "\n",
              "  // Disable the input element since further picks are not allowed.\n",
              "  inputElement.disabled = true;\n",
              "\n",
              "  if (!files) {\n",
              "    return {\n",
              "      response: {\n",
              "        action: 'complete',\n",
              "      }\n",
              "    };\n",
              "  }\n",
              "\n",
              "  for (const file of files) {\n",
              "    const li = document.createElement('li');\n",
              "    li.append(span(file.name, {fontWeight: 'bold'}));\n",
              "    li.append(span(\n",
              "        `(${file.type || 'n/a'}) - ${file.size} bytes, ` +\n",
              "        `last modified: ${\n",
              "            file.lastModifiedDate ? file.lastModifiedDate.toLocaleDateString() :\n",
              "                                    'n/a'} - `));\n",
              "    const percent = span('0% done');\n",
              "    li.appendChild(percent);\n",
              "\n",
              "    outputElement.appendChild(li);\n",
              "\n",
              "    const fileDataPromise = new Promise((resolve) => {\n",
              "      const reader = new FileReader();\n",
              "      reader.onload = (e) => {\n",
              "        resolve(e.target.result);\n",
              "      };\n",
              "      reader.readAsArrayBuffer(file);\n",
              "    });\n",
              "    // Wait for the data to be ready.\n",
              "    let fileData = yield {\n",
              "      promise: fileDataPromise,\n",
              "      response: {\n",
              "        action: 'continue',\n",
              "      }\n",
              "    };\n",
              "\n",
              "    // Use a chunked sending to avoid message size limits. See b/62115660.\n",
              "    let position = 0;\n",
              "    do {\n",
              "      const length = Math.min(fileData.byteLength - position, MAX_PAYLOAD_SIZE);\n",
              "      const chunk = new Uint8Array(fileData, position, length);\n",
              "      position += length;\n",
              "\n",
              "      const base64 = btoa(String.fromCharCode.apply(null, chunk));\n",
              "      yield {\n",
              "        response: {\n",
              "          action: 'append',\n",
              "          file: file.name,\n",
              "          data: base64,\n",
              "        },\n",
              "      };\n",
              "\n",
              "      let percentDone = fileData.byteLength === 0 ?\n",
              "          100 :\n",
              "          Math.round((position / fileData.byteLength) * 100);\n",
              "      percent.textContent = `${percentDone}% done`;\n",
              "\n",
              "    } while (position < fileData.byteLength);\n",
              "  }\n",
              "\n",
              "  // All done.\n",
              "  yield {\n",
              "    response: {\n",
              "      action: 'complete',\n",
              "    }\n",
              "  };\n",
              "}\n",
              "\n",
              "scope.google = scope.google || {};\n",
              "scope.google.colab = scope.google.colab || {};\n",
              "scope.google.colab._files = {\n",
              "  _uploadFiles,\n",
              "  _uploadFilesContinue,\n",
              "};\n",
              "})(self);\n",
              "</script> "
            ],
            "text/plain": [
              "<IPython.core.display.HTML object>"
            ]
          },
          "metadata": {},
          "output_type": "display_data"
        }
      ],
      "source": [
        "from google.colab import files\n",
        "uploaded = files.upload()\n",
        "\n",
        "import os\n",
        "os.environ[\"GOOGLE_APPLICATION_CREDENTIALS\"] = \"/content/service_account.json\"\n"
      ]
    },
    {
      "cell_type": "code",
      "source": [
        "!pip install --quiet googlemaps\n"
      ],
      "metadata": {
        "colab": {
          "base_uri": "https://localhost:8080/"
        },
        "id": "AQeFZNn7_Hu4",
        "outputId": "b90f5298-4f6c-4688-e742-577c6430dba1"
      },
      "execution_count": null,
      "outputs": [
        {
          "output_type": "stream",
          "name": "stdout",
          "text": [
            "  Preparing metadata (setup.py) ... \u001b[?25l\u001b[?25hdone\n",
            "  Building wheel for googlemaps (setup.py) ... \u001b[?25l\u001b[?25hdone\n"
          ]
        }
      ]
    },
    {
      "cell_type": "code",
      "source": [
        "from google.colab import files\n",
        "uploaded = files.upload()\n"
      ],
      "metadata": {
        "colab": {
          "base_uri": "https://localhost:8080/",
          "height": 73
        },
        "id": "5zds9vH_BssX",
        "outputId": "c9b88d64-428a-4ec1-d9f1-0da2b73dc0ea"
      },
      "execution_count": null,
      "outputs": [
        {
          "output_type": "display_data",
          "data": {
            "text/plain": [
              "<IPython.core.display.HTML object>"
            ],
            "text/html": [
              "\n",
              "     <input type=\"file\" id=\"files-71d07fda-77e9-421e-a3b2-f568da8f3715\" name=\"files[]\" multiple disabled\n",
              "        style=\"border:none\" />\n",
              "     <output id=\"result-71d07fda-77e9-421e-a3b2-f568da8f3715\">\n",
              "      Upload widget is only available when the cell has been executed in the\n",
              "      current browser session. Please rerun this cell to enable.\n",
              "      </output>\n",
              "      <script>// Copyright 2017 Google LLC\n",
              "//\n",
              "// Licensed under the Apache License, Version 2.0 (the \"License\");\n",
              "// you may not use this file except in compliance with the License.\n",
              "// You may obtain a copy of the License at\n",
              "//\n",
              "//      http://www.apache.org/licenses/LICENSE-2.0\n",
              "//\n",
              "// Unless required by applicable law or agreed to in writing, software\n",
              "// distributed under the License is distributed on an \"AS IS\" BASIS,\n",
              "// WITHOUT WARRANTIES OR CONDITIONS OF ANY KIND, either express or implied.\n",
              "// See the License for the specific language governing permissions and\n",
              "// limitations under the License.\n",
              "\n",
              "/**\n",
              " * @fileoverview Helpers for google.colab Python module.\n",
              " */\n",
              "(function(scope) {\n",
              "function span(text, styleAttributes = {}) {\n",
              "  const element = document.createElement('span');\n",
              "  element.textContent = text;\n",
              "  for (const key of Object.keys(styleAttributes)) {\n",
              "    element.style[key] = styleAttributes[key];\n",
              "  }\n",
              "  return element;\n",
              "}\n",
              "\n",
              "// Max number of bytes which will be uploaded at a time.\n",
              "const MAX_PAYLOAD_SIZE = 100 * 1024;\n",
              "\n",
              "function _uploadFiles(inputId, outputId) {\n",
              "  const steps = uploadFilesStep(inputId, outputId);\n",
              "  const outputElement = document.getElementById(outputId);\n",
              "  // Cache steps on the outputElement to make it available for the next call\n",
              "  // to uploadFilesContinue from Python.\n",
              "  outputElement.steps = steps;\n",
              "\n",
              "  return _uploadFilesContinue(outputId);\n",
              "}\n",
              "\n",
              "// This is roughly an async generator (not supported in the browser yet),\n",
              "// where there are multiple asynchronous steps and the Python side is going\n",
              "// to poll for completion of each step.\n",
              "// This uses a Promise to block the python side on completion of each step,\n",
              "// then passes the result of the previous step as the input to the next step.\n",
              "function _uploadFilesContinue(outputId) {\n",
              "  const outputElement = document.getElementById(outputId);\n",
              "  const steps = outputElement.steps;\n",
              "\n",
              "  const next = steps.next(outputElement.lastPromiseValue);\n",
              "  return Promise.resolve(next.value.promise).then((value) => {\n",
              "    // Cache the last promise value to make it available to the next\n",
              "    // step of the generator.\n",
              "    outputElement.lastPromiseValue = value;\n",
              "    return next.value.response;\n",
              "  });\n",
              "}\n",
              "\n",
              "/**\n",
              " * Generator function which is called between each async step of the upload\n",
              " * process.\n",
              " * @param {string} inputId Element ID of the input file picker element.\n",
              " * @param {string} outputId Element ID of the output display.\n",
              " * @return {!Iterable<!Object>} Iterable of next steps.\n",
              " */\n",
              "function* uploadFilesStep(inputId, outputId) {\n",
              "  const inputElement = document.getElementById(inputId);\n",
              "  inputElement.disabled = false;\n",
              "\n",
              "  const outputElement = document.getElementById(outputId);\n",
              "  outputElement.innerHTML = '';\n",
              "\n",
              "  const pickedPromise = new Promise((resolve) => {\n",
              "    inputElement.addEventListener('change', (e) => {\n",
              "      resolve(e.target.files);\n",
              "    });\n",
              "  });\n",
              "\n",
              "  const cancel = document.createElement('button');\n",
              "  inputElement.parentElement.appendChild(cancel);\n",
              "  cancel.textContent = 'Cancel upload';\n",
              "  const cancelPromise = new Promise((resolve) => {\n",
              "    cancel.onclick = () => {\n",
              "      resolve(null);\n",
              "    };\n",
              "  });\n",
              "\n",
              "  // Wait for the user to pick the files.\n",
              "  const files = yield {\n",
              "    promise: Promise.race([pickedPromise, cancelPromise]),\n",
              "    response: {\n",
              "      action: 'starting',\n",
              "    }\n",
              "  };\n",
              "\n",
              "  cancel.remove();\n",
              "\n",
              "  // Disable the input element since further picks are not allowed.\n",
              "  inputElement.disabled = true;\n",
              "\n",
              "  if (!files) {\n",
              "    return {\n",
              "      response: {\n",
              "        action: 'complete',\n",
              "      }\n",
              "    };\n",
              "  }\n",
              "\n",
              "  for (const file of files) {\n",
              "    const li = document.createElement('li');\n",
              "    li.append(span(file.name, {fontWeight: 'bold'}));\n",
              "    li.append(span(\n",
              "        `(${file.type || 'n/a'}) - ${file.size} bytes, ` +\n",
              "        `last modified: ${\n",
              "            file.lastModifiedDate ? file.lastModifiedDate.toLocaleDateString() :\n",
              "                                    'n/a'} - `));\n",
              "    const percent = span('0% done');\n",
              "    li.appendChild(percent);\n",
              "\n",
              "    outputElement.appendChild(li);\n",
              "\n",
              "    const fileDataPromise = new Promise((resolve) => {\n",
              "      const reader = new FileReader();\n",
              "      reader.onload = (e) => {\n",
              "        resolve(e.target.result);\n",
              "      };\n",
              "      reader.readAsArrayBuffer(file);\n",
              "    });\n",
              "    // Wait for the data to be ready.\n",
              "    let fileData = yield {\n",
              "      promise: fileDataPromise,\n",
              "      response: {\n",
              "        action: 'continue',\n",
              "      }\n",
              "    };\n",
              "\n",
              "    // Use a chunked sending to avoid message size limits. See b/62115660.\n",
              "    let position = 0;\n",
              "    do {\n",
              "      const length = Math.min(fileData.byteLength - position, MAX_PAYLOAD_SIZE);\n",
              "      const chunk = new Uint8Array(fileData, position, length);\n",
              "      position += length;\n",
              "\n",
              "      const base64 = btoa(String.fromCharCode.apply(null, chunk));\n",
              "      yield {\n",
              "        response: {\n",
              "          action: 'append',\n",
              "          file: file.name,\n",
              "          data: base64,\n",
              "        },\n",
              "      };\n",
              "\n",
              "      let percentDone = fileData.byteLength === 0 ?\n",
              "          100 :\n",
              "          Math.round((position / fileData.byteLength) * 100);\n",
              "      percent.textContent = `${percentDone}% done`;\n",
              "\n",
              "    } while (position < fileData.byteLength);\n",
              "  }\n",
              "\n",
              "  // All done.\n",
              "  yield {\n",
              "    response: {\n",
              "      action: 'complete',\n",
              "    }\n",
              "  };\n",
              "}\n",
              "\n",
              "scope.google = scope.google || {};\n",
              "scope.google.colab = scope.google.colab || {};\n",
              "scope.google.colab._files = {\n",
              "  _uploadFiles,\n",
              "  _uploadFilesContinue,\n",
              "};\n",
              "})(self);\n",
              "</script> "
            ]
          },
          "metadata": {}
        },
        {
          "output_type": "stream",
          "name": "stdout",
          "text": [
            "Saving maps_api_key.txt to maps_api_key.txt\n"
          ]
        }
      ]
    },
    {
      "cell_type": "code",
      "source": [
        "with open(\"maps_api_key.txt\", \"r\") as f:\n",
        "    MAPS_API_KEY = f.read().strip()\n",
        "\n",
        "print(\"Key loaded, length:\", len(MAPS_API_KEY))\n"
      ],
      "metadata": {
        "colab": {
          "base_uri": "https://localhost:8080/"
        },
        "id": "xhr2o4_uB62i",
        "outputId": "004709ba-4760-4459-eeda-923c6c958c36"
      },
      "execution_count": null,
      "outputs": [
        {
          "output_type": "stream",
          "name": "stdout",
          "text": [
            "Key loaded, length: 39\n"
          ]
        }
      ]
    },
    {
      "cell_type": "code",
      "source": [
        "import googlemaps\n",
        "\n",
        "with open(\"maps_api_key.txt\", \"r\") as f:\n",
        "    MAPS_API_KEY = f.read().strip()\n",
        "\n",
        "gmaps = googlemaps.Client(key=MAPS_API_KEY)\n"
      ],
      "metadata": {
        "id": "mfqZy7KuCAvn"
      },
      "execution_count": null,
      "outputs": []
    },
    {
      "cell_type": "code",
      "source": [
        "def distance_km_from_pincodes(src_pincode, dst_pincode):\n",
        "    result = gmaps.distance_matrix(\n",
        "        origins=[src_pincode],\n",
        "        destinations=[dst_pincode],\n",
        "        mode=\"driving\"\n",
        "    )\n",
        "\n",
        "    elem = result[\"rows\"][0][\"elements\"][0]\n",
        "    if elem.get(\"status\") != \"OK\":\n",
        "        raise Exception(f\"Error: {elem.get('status')}\")\n",
        "    meters = elem[\"distance\"][\"value\"]\n",
        "    return meters / 1000.0\n"
      ],
      "metadata": {
        "id": "rjem3_VNCJAg"
      },
      "execution_count": null,
      "outputs": []
    },
    {
      "cell_type": "code",
      "source": [
        "import requests\n",
        "from bs4 import BeautifulSoup\n",
        "\n",
        "def get_dtdc_price(src_pincode, dst_pincode, weight):\n",
        "    url = \"https://www.dtdc.in/calculate-rate.aspx\"\n",
        "    payload = {\n",
        "        \"fromPincode\": src_pincode,\n",
        "        \"toPincode\": dst_pincode,\n",
        "        \"weight\": weight,\n",
        "    }\n",
        "    res = requests.post(url, data=payload)\n",
        "    soup = BeautifulSoup(res.text, \"html.parser\")\n",
        "    price = soup.find(\"span\", {\"id\": \"total_price\"}).text\n",
        "    return price\n"
      ],
      "metadata": {
        "id": "4nzhA5rHGV1i"
      },
      "execution_count": null,
      "outputs": []
    },
    {
      "cell_type": "code",
      "source": [
        "import requests\n",
        "\n",
        "def get_delhivery_price(src_pincode, dst_pincode, weight):\n",
        "    url = \"https://track.delhivery.com/api/kinko/v1/invoice/charges/.json\"\n",
        "    payload = {\n",
        "        \"from_pincode\": src_pincode,\n",
        "        \"to_pincode\": dst_pincode,\n",
        "        \"cod\": 0,\n",
        "        \"weight\": weight * 1000  # in grams\n",
        "    }\n",
        "    headers = {\"Authorization\": \"Token <PUBLIC_DEMO_TOKEN>\"}\n",
        "    res = requests.get(url, params=payload, headers=headers)\n",
        "    return res.json()\n"
      ],
      "metadata": {
        "id": "f-8t5gIhGX2l"
      },
      "execution_count": null,
      "outputs": []
    },
    {
      "cell_type": "code",
      "source": [
        "def get_bluedart_price(src_pincode, dst_pincode, weight):\n",
        "    return \"Bluedart API requires login, scraping not possible.\"\n"
      ],
      "metadata": {
        "id": "6dALQoNJGg-s"
      },
      "execution_count": null,
      "outputs": []
    },
    {
      "cell_type": "code",
      "source": [
        "def get_india_post_price(src_pincode, dst_pincode, weight):\n",
        "    url = \"https://www.indiapost.gov.in/VAS/Pages/CalculatePostage.aspx\"\n",
        "    payload = {\n",
        "        \"from\": src_pincode,\n",
        "        \"to\": dst_pincode,\n",
        "        \"weight\": weight\n",
        "    }\n",
        "    res = requests.post(url, data=payload)\n",
        "    return res.text\n"
      ],
      "metadata": {
        "id": "tNxgEd6VGu9m"
      },
      "execution_count": null,
      "outputs": []
    },
    {
      "cell_type": "code",
      "source": [
        "def get_dtdc_price(src, dst, weight):\n",
        "    return 50 + 25*weight + abs(int(src)-int(dst))/100\n",
        "\n",
        "def get_delhivery_price(src, dst, weight):\n",
        "    return 40 + 20*weight + abs(int(src)-int(dst))/90\n",
        "\n",
        "def get_india_post_price(src, dst, weight):\n",
        "    return 30 + 15*weight + abs(int(src)-int(dst))/120\n"
      ],
      "metadata": {
        "id": "zVo31U7uICiI"
      },
      "execution_count": null,
      "outputs": []
    },
    {
      "cell_type": "code",
      "source": [
        "def get_all_prices(src_pincode, dst_pincode, weight):\n",
        "    results = {}\n",
        "\n",
        "    try:\n",
        "        results[\"DTDC\"] = get_dtdc_price(src_pincode, dst_pincode, weight)\n",
        "    except Exception as e:\n",
        "        results[\"DTDC\"] = f\"Error: {e}\"\n",
        "\n",
        "    try:\n",
        "        results[\"Delhivery\"] = get_delhivery_price(src_pincode, dst_pincode, weight)\n",
        "    except Exception as e:\n",
        "        results[\"Delhivery\"] = f\"Error: {e}\"\n",
        "\n",
        "    try:\n",
        "        results[\"India Post\"] = get_india_post_price(src_pincode, dst_pincode, weight)\n",
        "    except Exception as e:\n",
        "        results[\"India Post\"] = f\"Error: {e}\"\n",
        "\n",
        "    results[\"Bluedart\"] = \"API login required\"\n",
        "    results[\"XpressBees\"] = \"API login required\"\n",
        "\n",
        "    return results\n"
      ],
      "metadata": {
        "id": "KmhVPTxB6rPd"
      },
      "execution_count": null,
      "outputs": []
    },
    {
      "cell_type": "code",
      "source": [
        "import numpy as np\n",
        "import pandas as pd\n",
        "from sklearn.model_selection import train_test_split\n",
        "from sklearn.ensemble import RandomForestRegressor\n",
        "from sklearn.metrics import r2_score, mean_absolute_error\n",
        "\n",
        "np.random.seed(42)\n",
        "n_samples = 500\n",
        "weights = np.random.uniform(0.1, 20, n_samples)\n",
        "distances = np.random.uniform(10, 2000, n_samples)\n",
        "companies = np.random.choice(['DTDC','Delhivery','FedEx','Ecom Express'], n_samples)\n",
        "\n",
        "company_base = {'DTDC':50, 'Delhivery':40, 'FedEx':100, 'Ecom Express':60}\n",
        "company_wrate = {'DTDC':25, 'Delhivery':20, 'FedEx':50, 'Ecom Express':30}\n",
        "company_drate = {'DTDC':0.2, 'Delhivery':0.25, 'FedEx':0.5, 'Ecom Express':0.3}\n",
        "\n",
        "prices = []\n",
        "for w,d,c in zip(weights, distances, companies):\n",
        "    price = company_base[c] + w*company_wrate[c] + d*company_drate[c] + np.random.normal(0,10)\n",
        "    prices.append(price)\n",
        "\n",
        "df = pd.DataFrame({\n",
        "    'weight_kg': weights,\n",
        "    'distance_km': distances,\n",
        "    'company': companies,\n",
        "    'price': prices\n",
        "})\n",
        "\n",
        "df_enc = pd.get_dummies(df, columns=['company'])\n",
        "\n",
        "X = df_enc.drop('price', axis=1)\n",
        "y = df_enc['price']\n",
        "\n",
        "X_train, X_test, y_train, y_test = train_test_split(X, y, test_size=0.2, random_state=42)\n",
        "\n",
        "model = RandomForestRegressor(n_estimators=200, random_state=42)\n",
        "model.fit(X_train, y_train)\n",
        "\n",
        "y_pred = model.predict(X_test)\n",
        "print(\"Model R2:\", r2_score(y_test, y_pred))\n",
        "print(\"MAE:\", mean_absolute_error(y_test, y_pred))\n",
        "\n",
        "feature_cols = list(X.columns)\n"
      ],
      "metadata": {
        "colab": {
          "base_uri": "https://localhost:8080/"
        },
        "id": "5mFri2_C6xXY",
        "outputId": "27463c53-e09e-4c5a-cf97-c0491242ce20"
      },
      "execution_count": null,
      "outputs": [
        {
          "output_type": "stream",
          "name": "stdout",
          "text": [
            "Model R2: 0.9910710968476287\n",
            "MAE: 27.709046937414914\n"
          ]
        }
      ]
    },
    {
      "cell_type": "code",
      "source": [
        "\n",
        "import gradio as gr\n",
        "import io\n",
        "\n",
        "def courier_price_estimator(image, source_pin, dest_pin):\n",
        "\n",
        "    np.random.seed(0)\n",
        "    est_weight = round(np.random.uniform(0.5, 5.0), 2)\n",
        "    try:\n",
        "        dist = abs(int(source_pin) - int(dest_pin)) / 10\n",
        "    except:\n",
        "        dist = 100\n",
        "    results = []\n",
        "    for c in ['DTDC','Delhivery','FedEx','Ecom Express']:\n",
        "        sample = pd.DataFrame([{\n",
        "            'weight_kg': est_weight,\n",
        "            'distance_km': dist,\n",
        "            'company_'+c:1,\n",
        "            **{f'company_{other}':0 for other in ['DTDC','Delhivery','FedEx','Ecom Express'] if other!=c}\n",
        "        }])\n",
        "        price = model.predict(sample[feature_cols])[0]\n",
        "        results.append([c, round(price,2)])\n",
        "\n",
        "    df_out = pd.DataFrame(results, columns=[\"Courier Company\",\"Estimated Price (INR)\"])\n",
        "    cheapest = df_out.loc[df_out[\"Estimated Price (INR)\"].idxmin()]\n",
        "    return f\"Estimated Weight: {est_weight} kg. Cheapest: {cheapest['Courier Company']} @ ₹{cheapest['Estimated Price (INR)']}\", df_out\n",
        "\n",
        "\n",
        "with gr.Blocks() as demo:\n",
        "    gr.Markdown(\"# 📦 GenAI Courier Price Estimator (Prototype)\")\n",
        "    with gr.Row():\n",
        "        img = gr.Image(type=\"pil\", label=\"Upload picture of items\")\n",
        "        with gr.Column():\n",
        "            src = gr.Textbox(label=\"Source Pincode\")\n",
        "            dst = gr.Textbox(label=\"Destination Pincode\")\n",
        "            btn = gr.Button(\"Estimate Courier Prices\")\n",
        "    out1 = gr.Textbox(label=\"Summary\")\n",
        "    out2 = gr.Dataframe(headers=[\"Courier Company\",\"Estimated Price (INR)\"])\n",
        "\n",
        "    btn.click(courier_price_estimator, inputs=[img,src,dst], outputs=[out1,out2])\n",
        "\n",
        "demo.launch(share=True)\n"
      ],
      "metadata": {
        "id": "xmJ4v7vE62fg",
        "outputId": "44dadd4b-f44c-4b7d-a3ed-55bb778f5f65",
        "colab": {
          "base_uri": "https://localhost:8080/",
          "height": 614
        }
      },
      "execution_count": null,
      "outputs": [
        {
          "output_type": "stream",
          "name": "stdout",
          "text": [
            "Colab notebook detected. To show errors in colab notebook, set debug=True in launch()\n",
            "* Running on public URL: https://2138ca21b0d8e3e448.gradio.live\n",
            "\n",
            "This share link expires in 1 week. For free permanent hosting and GPU upgrades, run `gradio deploy` from the terminal in the working directory to deploy to Hugging Face Spaces (https://huggingface.co/spaces)\n"
          ]
        },
        {
          "output_type": "display_data",
          "data": {
            "text/plain": [
              "<IPython.core.display.HTML object>"
            ],
            "text/html": [
              "<div><iframe src=\"https://2138ca21b0d8e3e448.gradio.live\" width=\"100%\" height=\"500\" allow=\"autoplay; camera; microphone; clipboard-read; clipboard-write;\" frameborder=\"0\" allowfullscreen></iframe></div>"
            ]
          },
          "metadata": {}
        },
        {
          "output_type": "execute_result",
          "data": {
            "text/plain": []
          },
          "metadata": {},
          "execution_count": 4
        }
      ]
    }
  ],
  "metadata": {
    "colab": {
      "provenance": [],
      "authorship_tag": "ABX9TyOOfli1mXxz3RbRGP+IrUnx",
      "include_colab_link": true
    },
    "kernelspec": {
      "display_name": "Python 3",
      "name": "python3"
    },
    "language_info": {
      "name": "python"
    }
  },
  "nbformat": 4,
  "nbformat_minor": 0
}